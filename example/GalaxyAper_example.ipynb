{
 "cells": [
  {
   "cell_type": "code",
   "execution_count": 4,
   "id": "c07a3067-ab60-43f2-949f-8ee7d759fe5e",
   "metadata": {},
   "outputs": [],
   "source": [
    "import GalaxyAper"
   ]
  },
  {
   "cell_type": "code",
   "execution_count": 5,
   "id": "5be714d4-f5a9-4aab-8fb8-5168d6ec8e04",
   "metadata": {
    "scrolled": true
   },
   "outputs": [
    {
     "name": "stdout",
     "output_type": "stream",
     "text": [
      "Processed galaxy number 0\n",
      "Processed galaxy number 1\n",
      "Processed galaxy number 2\n",
      "Processed galaxy number 3\n",
      "Processed galaxy number 4\n",
      "Processed galaxy number 5\n",
      "Processed galaxy number 6\n",
      "Processed galaxy number 7\n",
      "Processed galaxy number 8\n",
      "Processed galaxy number 9\n",
      "Processed galaxy number 10\n",
      "Processed galaxy number 11\n",
      "Processed galaxy number 12\n",
      "Processed galaxy number 13\n",
      "Processed galaxy number 14\n",
      "Processed galaxy number 15\n",
      "Processed galaxy number 16\n",
      "Processed galaxy number 17\n",
      "Processed galaxy number 18\n",
      "Processed galaxy number 19\n",
      "Processed galaxy number 20\n",
      "Processed galaxy number 21\n",
      "Processed galaxy number 22\n",
      "Processed galaxy number 23\n",
      "Processed galaxy number 24\n",
      "Processed galaxy number 25\n",
      "Processed galaxy number 26\n",
      "Processed galaxy number 27\n",
      "Processed galaxy number 28\n",
      "Processed galaxy number 29\n",
      "Processed galaxy number 30\n",
      "Processed galaxy number 31\n",
      "Processed galaxy number 32\n",
      "Processed galaxy number 33\n",
      "Processed galaxy number 34\n",
      "Processed galaxy number 35\n",
      "Processed galaxy number 36\n",
      "Processed galaxy number 37\n",
      "Processed galaxy number 38\n",
      "Processed galaxy number 39\n",
      "Processed galaxy number 40\n",
      "Processed galaxy number 41\n",
      "Processed galaxy number 42\n",
      "Processed galaxy number 43\n",
      "Processed galaxy number 44\n",
      "Processed galaxy number 45\n",
      "Processed galaxy number 46\n",
      "Processed galaxy number 47\n",
      "Processed galaxy number 48\n",
      "Processed galaxy number 49\n",
      "Processed galaxy number 50\n",
      "Processed galaxy number 51\n",
      "Processed galaxy number 52\n",
      "Processed galaxy number 53\n",
      "Processed galaxy number 54\n",
      "Processed galaxy number 55\n",
      "Processed galaxy number 56\n",
      "Processed galaxy number 57\n",
      "Processed galaxy number 58\n",
      "Processed galaxy number 59\n",
      "Processed galaxy number 60\n",
      "Processed galaxy number 61\n",
      "Processed galaxy number 62\n",
      "Processed galaxy number 63\n",
      "Processed galaxy number 64\n",
      "Processed galaxy number 65\n",
      "Processed galaxy number 66\n",
      "Processed galaxy number 67\n",
      "Processed galaxy number 68\n",
      "Processed galaxy number 69\n",
      "Processed galaxy number 70\n",
      "Processed galaxy number 71\n",
      "Processed galaxy number 72\n",
      "Processed galaxy number 73\n"
     ]
    }
   ],
   "source": [
    "from astropy.io import fits\n",
    "\n",
    "hdul = fits.open('F160W_cutout.fits')\n",
    "data = hdul[0].data\n",
    "header= hdul[0].header\n",
    "filter_name='F160W'\n",
    "\n",
    "\n",
    "GalaxyAper.GalaxyAper(data, header, filter_name=filter_name, verbose=True)"
   ]
  },
  {
   "cell_type": "code",
   "execution_count": 6,
   "id": "eb1ae022-8168-4b70-be01-9730d9329a0a",
   "metadata": {},
   "outputs": [
    {
     "name": "stdout",
     "output_type": "stream",
     "text": [
      "Using GalaxyAper file: F160W_full_array_iterative.csv\n",
      "Output written to z_member_catalogue.cat\n"
     ]
    }
   ],
   "source": [
    "catalog_file='xmm113_catalog_v7.fits'\n",
    "#Redshift limits for membership\n",
    "z_low = 1.53\n",
    "z_high = 1.69\n",
    "filter_name='F160W'\n",
    "#You can specify z_choice as either zspec, zphot, or zboth depending on what you want to use for membership determination\n",
    "\n",
    "\n",
    "GalaxyAper.catalog_matching(catalog_file, z_low=z_low, z_high=z_high, z_choice='zboth')"
   ]
  },
  {
   "cell_type": "code",
   "execution_count": 7,
   "id": "005f5ba8-aea2-42a7-8e43-39476c518151",
   "metadata": {},
   "outputs": [
    {
     "ename": "FileNotFoundError",
     "evalue": "[Errno 2] No such file or directory: 'J0224_f625w_drc.0001.resamp.fits'",
     "output_type": "error",
     "traceback": [
      "\u001b[0;31m---------------------------------------------------------------------------\u001b[0m",
      "\u001b[0;31mFileNotFoundError\u001b[0m                         Traceback (most recent call last)",
      "Cell \u001b[0;32mIn[7], line 3\u001b[0m\n\u001b[1;32m      1\u001b[0m \u001b[38;5;66;03m# Load FITS files into memory\u001b[39;00m\n\u001b[1;32m      2\u001b[0m filter_data_map \u001b[38;5;241m=\u001b[39m {\n\u001b[0;32m----> 3\u001b[0m     \u001b[38;5;124m'\u001b[39m\u001b[38;5;124mF625W\u001b[39m\u001b[38;5;124m'\u001b[39m: fits\u001b[38;5;241m.\u001b[39mopen(\u001b[38;5;124m'\u001b[39m\u001b[38;5;124mJ0224_f625w_drc.0001.resamp.fits\u001b[39m\u001b[38;5;124m'\u001b[39m)[\u001b[38;5;241m0\u001b[39m]\u001b[38;5;241m.\u001b[39mdata,\n\u001b[1;32m      4\u001b[0m     \u001b[38;5;124m'\u001b[39m\u001b[38;5;124mF475W\u001b[39m\u001b[38;5;124m'\u001b[39m: fits\u001b[38;5;241m.\u001b[39mopen(\u001b[38;5;124m'\u001b[39m\u001b[38;5;124mJ0224_f475w_drc.0001.resamp.fits\u001b[39m\u001b[38;5;124m'\u001b[39m)[\u001b[38;5;241m0\u001b[39m]\u001b[38;5;241m.\u001b[39mdata,\n\u001b[1;32m      5\u001b[0m     \u001b[38;5;66;03m# Add more filters as needed\u001b[39;00m\n\u001b[1;32m      6\u001b[0m }\n\u001b[1;32m      8\u001b[0m \u001b[38;5;66;03m# Call the function\u001b[39;00m\n\u001b[1;32m      9\u001b[0m GalaxyAper\u001b[38;5;241m.\u001b[39mGalaxyAper_multi_filter(data, filter_data_map)\n",
      "File \u001b[0;32m~/miniconda3/envs/astropy/lib/python3.11/site-packages/astropy/io/fits/hdu/hdulist.py:223\u001b[0m, in \u001b[0;36mfitsopen\u001b[0;34m(name, mode, memmap, save_backup, cache, lazy_load_hdus, ignore_missing_simple, use_fsspec, fsspec_kwargs, decompress_in_memory, **kwargs)\u001b[0m\n\u001b[1;32m    220\u001b[0m \u001b[38;5;28;01mif\u001b[39;00m \u001b[38;5;129;01mnot\u001b[39;00m name:\n\u001b[1;32m    221\u001b[0m     \u001b[38;5;28;01mraise\u001b[39;00m \u001b[38;5;167;01mValueError\u001b[39;00m(\u001b[38;5;124mf\u001b[39m\u001b[38;5;124m\"\u001b[39m\u001b[38;5;124mEmpty filename: \u001b[39m\u001b[38;5;132;01m{\u001b[39;00mname\u001b[38;5;132;01m!r}\u001b[39;00m\u001b[38;5;124m\"\u001b[39m)\n\u001b[0;32m--> 223\u001b[0m \u001b[38;5;28;01mreturn\u001b[39;00m HDUList\u001b[38;5;241m.\u001b[39mfromfile(\n\u001b[1;32m    224\u001b[0m     name,\n\u001b[1;32m    225\u001b[0m     mode,\n\u001b[1;32m    226\u001b[0m     memmap,\n\u001b[1;32m    227\u001b[0m     save_backup,\n\u001b[1;32m    228\u001b[0m     cache,\n\u001b[1;32m    229\u001b[0m     lazy_load_hdus,\n\u001b[1;32m    230\u001b[0m     ignore_missing_simple,\n\u001b[1;32m    231\u001b[0m     use_fsspec\u001b[38;5;241m=\u001b[39muse_fsspec,\n\u001b[1;32m    232\u001b[0m     fsspec_kwargs\u001b[38;5;241m=\u001b[39mfsspec_kwargs,\n\u001b[1;32m    233\u001b[0m     decompress_in_memory\u001b[38;5;241m=\u001b[39mdecompress_in_memory,\n\u001b[1;32m    234\u001b[0m     \u001b[38;5;241m*\u001b[39m\u001b[38;5;241m*\u001b[39mkwargs,\n\u001b[1;32m    235\u001b[0m )\n",
      "File \u001b[0;32m~/miniconda3/envs/astropy/lib/python3.11/site-packages/astropy/io/fits/hdu/hdulist.py:487\u001b[0m, in \u001b[0;36mHDUList.fromfile\u001b[0;34m(cls, fileobj, mode, memmap, save_backup, cache, lazy_load_hdus, ignore_missing_simple, **kwargs)\u001b[0m\n\u001b[1;32m    468\u001b[0m \u001b[38;5;129m@classmethod\u001b[39m\n\u001b[1;32m    469\u001b[0m \u001b[38;5;28;01mdef\u001b[39;00m \u001b[38;5;21mfromfile\u001b[39m(\n\u001b[1;32m    470\u001b[0m     \u001b[38;5;28mcls\u001b[39m,\n\u001b[0;32m   (...)\u001b[0m\n\u001b[1;32m    478\u001b[0m     \u001b[38;5;241m*\u001b[39m\u001b[38;5;241m*\u001b[39mkwargs,\n\u001b[1;32m    479\u001b[0m ):\n\u001b[1;32m    480\u001b[0m \u001b[38;5;250m    \u001b[39m\u001b[38;5;124;03m\"\"\"\u001b[39;00m\n\u001b[1;32m    481\u001b[0m \u001b[38;5;124;03m    Creates an `HDUList` instance from a file-like object.\u001b[39;00m\n\u001b[1;32m    482\u001b[0m \n\u001b[0;32m   (...)\u001b[0m\n\u001b[1;32m    485\u001b[0m \u001b[38;5;124;03m    documentation for details of the parameters accepted by this method).\u001b[39;00m\n\u001b[1;32m    486\u001b[0m \u001b[38;5;124;03m    \"\"\"\u001b[39;00m\n\u001b[0;32m--> 487\u001b[0m     \u001b[38;5;28;01mreturn\u001b[39;00m \u001b[38;5;28mcls\u001b[39m\u001b[38;5;241m.\u001b[39m_readfrom(\n\u001b[1;32m    488\u001b[0m         fileobj\u001b[38;5;241m=\u001b[39mfileobj,\n\u001b[1;32m    489\u001b[0m         mode\u001b[38;5;241m=\u001b[39mmode,\n\u001b[1;32m    490\u001b[0m         memmap\u001b[38;5;241m=\u001b[39mmemmap,\n\u001b[1;32m    491\u001b[0m         save_backup\u001b[38;5;241m=\u001b[39msave_backup,\n\u001b[1;32m    492\u001b[0m         cache\u001b[38;5;241m=\u001b[39mcache,\n\u001b[1;32m    493\u001b[0m         ignore_missing_simple\u001b[38;5;241m=\u001b[39mignore_missing_simple,\n\u001b[1;32m    494\u001b[0m         lazy_load_hdus\u001b[38;5;241m=\u001b[39mlazy_load_hdus,\n\u001b[1;32m    495\u001b[0m         \u001b[38;5;241m*\u001b[39m\u001b[38;5;241m*\u001b[39mkwargs,\n\u001b[1;32m    496\u001b[0m     )\n",
      "File \u001b[0;32m~/miniconda3/envs/astropy/lib/python3.11/site-packages/astropy/io/fits/hdu/hdulist.py:1169\u001b[0m, in \u001b[0;36mHDUList._readfrom\u001b[0;34m(cls, fileobj, data, mode, memmap, cache, lazy_load_hdus, ignore_missing_simple, use_fsspec, fsspec_kwargs, decompress_in_memory, **kwargs)\u001b[0m\n\u001b[1;32m   1166\u001b[0m \u001b[38;5;28;01mif\u001b[39;00m fileobj \u001b[38;5;129;01mis\u001b[39;00m \u001b[38;5;129;01mnot\u001b[39;00m \u001b[38;5;28;01mNone\u001b[39;00m:\n\u001b[1;32m   1167\u001b[0m     \u001b[38;5;28;01mif\u001b[39;00m \u001b[38;5;129;01mnot\u001b[39;00m \u001b[38;5;28misinstance\u001b[39m(fileobj, _File):\n\u001b[1;32m   1168\u001b[0m         \u001b[38;5;66;03m# instantiate a FITS file object (ffo)\u001b[39;00m\n\u001b[0;32m-> 1169\u001b[0m         fileobj \u001b[38;5;241m=\u001b[39m _File(\n\u001b[1;32m   1170\u001b[0m             fileobj,\n\u001b[1;32m   1171\u001b[0m             mode\u001b[38;5;241m=\u001b[39mmode,\n\u001b[1;32m   1172\u001b[0m             memmap\u001b[38;5;241m=\u001b[39mmemmap,\n\u001b[1;32m   1173\u001b[0m             cache\u001b[38;5;241m=\u001b[39mcache,\n\u001b[1;32m   1174\u001b[0m             use_fsspec\u001b[38;5;241m=\u001b[39muse_fsspec,\n\u001b[1;32m   1175\u001b[0m             fsspec_kwargs\u001b[38;5;241m=\u001b[39mfsspec_kwargs,\n\u001b[1;32m   1176\u001b[0m             decompress_in_memory\u001b[38;5;241m=\u001b[39mdecompress_in_memory,\n\u001b[1;32m   1177\u001b[0m         )\n\u001b[1;32m   1178\u001b[0m     \u001b[38;5;66;03m# The Astropy mode is determined by the _File initializer if the\u001b[39;00m\n\u001b[1;32m   1179\u001b[0m     \u001b[38;5;66;03m# supplied mode was None\u001b[39;00m\n\u001b[1;32m   1180\u001b[0m     mode \u001b[38;5;241m=\u001b[39m fileobj\u001b[38;5;241m.\u001b[39mmode\n",
      "File \u001b[0;32m~/miniconda3/envs/astropy/lib/python3.11/site-packages/astropy/io/fits/file.py:218\u001b[0m, in \u001b[0;36m_File.__init__\u001b[0;34m(self, fileobj, mode, memmap, overwrite, cache, use_fsspec, fsspec_kwargs, decompress_in_memory)\u001b[0m\n\u001b[1;32m    216\u001b[0m     \u001b[38;5;28mself\u001b[39m\u001b[38;5;241m.\u001b[39m_open_fileobj(fileobj, mode, overwrite)\n\u001b[1;32m    217\u001b[0m \u001b[38;5;28;01melif\u001b[39;00m \u001b[38;5;28misinstance\u001b[39m(fileobj, (\u001b[38;5;28mstr\u001b[39m, \u001b[38;5;28mbytes\u001b[39m)):\n\u001b[0;32m--> 218\u001b[0m     \u001b[38;5;28mself\u001b[39m\u001b[38;5;241m.\u001b[39m_open_filename(fileobj, mode, overwrite)\n\u001b[1;32m    219\u001b[0m \u001b[38;5;28;01melse\u001b[39;00m:\n\u001b[1;32m    220\u001b[0m     \u001b[38;5;28mself\u001b[39m\u001b[38;5;241m.\u001b[39m_open_filelike(fileobj, mode, overwrite)\n",
      "File \u001b[0;32m~/miniconda3/envs/astropy/lib/python3.11/site-packages/astropy/io/fits/file.py:651\u001b[0m, in \u001b[0;36m_File._open_filename\u001b[0;34m(self, filename, mode, overwrite)\u001b[0m\n\u001b[1;32m    648\u001b[0m ext \u001b[38;5;241m=\u001b[39m os\u001b[38;5;241m.\u001b[39mpath\u001b[38;5;241m.\u001b[39msplitext(\u001b[38;5;28mself\u001b[39m\u001b[38;5;241m.\u001b[39mname)[\u001b[38;5;241m1\u001b[39m]\n\u001b[1;32m    650\u001b[0m \u001b[38;5;28;01mif\u001b[39;00m \u001b[38;5;129;01mnot\u001b[39;00m \u001b[38;5;28mself\u001b[39m\u001b[38;5;241m.\u001b[39m_try_read_compressed(\u001b[38;5;28mself\u001b[39m\u001b[38;5;241m.\u001b[39mname, magic, mode, ext\u001b[38;5;241m=\u001b[39mext):\n\u001b[0;32m--> 651\u001b[0m     \u001b[38;5;28mself\u001b[39m\u001b[38;5;241m.\u001b[39m_file \u001b[38;5;241m=\u001b[39m \u001b[38;5;28mopen\u001b[39m(\u001b[38;5;28mself\u001b[39m\u001b[38;5;241m.\u001b[39mname, IO_FITS_MODES[mode])\n\u001b[1;32m    652\u001b[0m     \u001b[38;5;28mself\u001b[39m\u001b[38;5;241m.\u001b[39mclose_on_error \u001b[38;5;241m=\u001b[39m \u001b[38;5;28;01mTrue\u001b[39;00m\n\u001b[1;32m    654\u001b[0m \u001b[38;5;66;03m# Make certain we're back at the beginning of the file\u001b[39;00m\n\u001b[1;32m    655\u001b[0m \u001b[38;5;66;03m# BZ2File does not support seek when the file is open for writing, but\u001b[39;00m\n\u001b[1;32m    656\u001b[0m \u001b[38;5;66;03m# when opening a file for write, bz2.BZ2File always truncates anyway.\u001b[39;00m\n",
      "\u001b[0;31mFileNotFoundError\u001b[0m: [Errno 2] No such file or directory: 'J0224_f625w_drc.0001.resamp.fits'"
     ]
    }
   ],
   "source": [
    "# Load FITS files into memory\n",
    "filter_data_map = {\n",
    "    'F625W': fits.open('F625W_cutout.fits')[0].data,\n",
    "    'F475W': fits.open('F475W_cutout.fits')[0].data,\n",
    "    # Add more filters as needed\n",
    "}\n",
    "\n",
    "# Call the function\n",
    "GalaxyAper.GalaxyAper_multi_filter(data, filter_data_map)"
   ]
  },
  {
   "cell_type": "code",
   "execution_count": null,
   "id": "fa500c6f-5312-4e87-a8de-0d6e0d0e1f5d",
   "metadata": {},
   "outputs": [],
   "source": []
  }
 ],
 "metadata": {
  "kernelspec": {
   "display_name": "Python 3 (ipykernel)",
   "language": "python",
   "name": "python3"
  },
  "language_info": {
   "codemirror_mode": {
    "name": "ipython",
    "version": 3
   },
   "file_extension": ".py",
   "mimetype": "text/x-python",
   "name": "python",
   "nbconvert_exporter": "python",
   "pygments_lexer": "ipython3",
   "version": "3.11.8"
  }
 },
 "nbformat": 4,
 "nbformat_minor": 5
}

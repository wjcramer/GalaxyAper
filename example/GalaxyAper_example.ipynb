{
 "cells": [
  {
   "cell_type": "code",
   "execution_count": 4,
   "id": "c07a3067-ab60-43f2-949f-8ee7d759fe5e",
   "metadata": {},
   "outputs": [],
   "source": [
    "import GalaxyAper"
   ]
  },
  {
   "cell_type": "code",
   "execution_count": 5,
   "id": "5be714d4-f5a9-4aab-8fb8-5168d6ec8e04",
   "metadata": {
    "scrolled": true
   },
   "outputs": [
    {
     "name": "stdout",
     "output_type": "stream",
     "text": [
      "Processed galaxy number 0\n",
      "Processed galaxy number 1\n",
      "Processed galaxy number 2\n",
      "Processed galaxy number 3\n",
      "Processed galaxy number 4\n",
      "Processed galaxy number 5\n",
      "Processed galaxy number 6\n",
      "Processed galaxy number 7\n",
      "Processed galaxy number 8\n",
      "Processed galaxy number 9\n",
      "Processed galaxy number 10\n",
      "Processed galaxy number 11\n",
      "Processed galaxy number 12\n",
      "Processed galaxy number 13\n",
      "Processed galaxy number 14\n",
      "Processed galaxy number 15\n",
      "Processed galaxy number 16\n",
      "Processed galaxy number 17\n",
      "Processed galaxy number 18\n",
      "Processed galaxy number 19\n",
      "Processed galaxy number 20\n",
      "Processed galaxy number 21\n",
      "Processed galaxy number 22\n",
      "Processed galaxy number 23\n",
      "Processed galaxy number 24\n",
      "Processed galaxy number 25\n",
      "Processed galaxy number 26\n",
      "Processed galaxy number 27\n",
      "Processed galaxy number 28\n",
      "Processed galaxy number 29\n",
      "Processed galaxy number 30\n",
      "Processed galaxy number 31\n",
      "Processed galaxy number 32\n",
      "Processed galaxy number 33\n",
      "Processed galaxy number 34\n",
      "Processed galaxy number 35\n",
      "Processed galaxy number 36\n",
      "Processed galaxy number 37\n",
      "Processed galaxy number 38\n",
      "Processed galaxy number 39\n",
      "Processed galaxy number 40\n",
      "Processed galaxy number 41\n",
      "Processed galaxy number 42\n",
      "Processed galaxy number 43\n",
      "Processed galaxy number 44\n",
      "Processed galaxy number 45\n",
      "Processed galaxy number 46\n",
      "Processed galaxy number 47\n",
      "Processed galaxy number 48\n",
      "Processed galaxy number 49\n",
      "Processed galaxy number 50\n",
      "Processed galaxy number 51\n",
      "Processed galaxy number 52\n",
      "Processed galaxy number 53\n",
      "Processed galaxy number 54\n",
      "Processed galaxy number 55\n",
      "Processed galaxy number 56\n",
      "Processed galaxy number 57\n",
      "Processed galaxy number 58\n",
      "Processed galaxy number 59\n",
      "Processed galaxy number 60\n",
      "Processed galaxy number 61\n",
      "Processed galaxy number 62\n",
      "Processed galaxy number 63\n",
      "Processed galaxy number 64\n",
      "Processed galaxy number 65\n",
      "Processed galaxy number 66\n",
      "Processed galaxy number 67\n",
      "Processed galaxy number 68\n",
      "Processed galaxy number 69\n",
      "Processed galaxy number 70\n",
      "Processed galaxy number 71\n",
      "Processed galaxy number 72\n",
      "Processed galaxy number 73\n"
     ]
    }
   ],
   "source": [
    "from astropy.io import fits\n",
    "\n",
    "hdul = fits.open('F160W_cutout.fits')\n",
    "data = hdul[0].data\n",
    "header= hdul[0].header\n",
    "filter_name='F160W'\n",
    "\n",
    "\n",
    "GalaxyAper.GalaxyAper(data, header, filter_name=filter_name, verbose=True)"
   ]
  },
  {
   "cell_type": "code",
   "execution_count": 6,
   "id": "eb1ae022-8168-4b70-be01-9730d9329a0a",
   "metadata": {},
   "outputs": [
    {
     "name": "stdout",
     "output_type": "stream",
     "text": [
      "Using GalaxyAper file: F160W_full_array_iterative.csv\n",
      "Output written to z_member_catalogue.cat\n"
     ]
    }
   ],
   "source": [
    "catalog_file='xmm113_catalog_v7.fits'\n",
    "#Redshift limits for membership\n",
    "z_low = 1.53\n",
    "z_high = 1.69\n",
    "filter_name='F160W'\n",
    "#You can specify z_choice as either zspec, zphot, or zboth depending on what you want to use for membership determination\n",
    "\n",
    "\n",
    "GalaxyAper.catalog_matching(catalog_file, z_low=z_low, z_high=z_high, z_choice='zboth')"
   ]
  },
  {
   "cell_type": "code",
   "execution_count": 8,
   "id": "005f5ba8-aea2-42a7-8e43-39476c518151",
   "metadata": {},
   "outputs": [
    {
     "name": "stdout",
     "output_type": "stream",
     "text": [
      "Using catalog_matching file: z_member_catalogue.cat\n",
      "Processing filter: F625W\n",
      "Processing filter: F475W\n"
     ]
    }
   ],
   "source": [
    "# Load FITS files into memory\n",
    "filter_data_map = {\n",
    "    'F625W': fits.open('F625W_cutout.fits')[0].data,\n",
    "    'F475W': fits.open('F475W_cutout.fits')[0].data,\n",
    "    # Add more filters as needed\n",
    "}\n",
    "\n",
    "# Call the function\n",
    "GalaxyAper.GalaxyAper_multi_filter(data, filter_data_map)"
   ]
  },
  {
   "cell_type": "code",
   "execution_count": null,
   "id": "fa500c6f-5312-4e87-a8de-0d6e0d0e1f5d",
   "metadata": {},
   "outputs": [],
   "source": []
  }
 ],
 "metadata": {
  "kernelspec": {
   "display_name": "Python 3 (ipykernel)",
   "language": "python",
   "name": "python3"
  },
  "language_info": {
   "codemirror_mode": {
    "name": "ipython",
    "version": 3
   },
   "file_extension": ".py",
   "mimetype": "text/x-python",
   "name": "python",
   "nbconvert_exporter": "python",
   "pygments_lexer": "ipython3",
   "version": "3.11.8"
  }
 },
 "nbformat": 4,
 "nbformat_minor": 5
}
